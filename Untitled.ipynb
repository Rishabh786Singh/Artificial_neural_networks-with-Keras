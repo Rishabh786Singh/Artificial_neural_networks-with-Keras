{
 "cells": [
  {
   "cell_type": "code",
   "execution_count": 63,
   "metadata": {
    "collapsed": true
   },
   "outputs": [],
   "source": [
    "import tensorflow as tf"
   ]
  },
  {
   "cell_type": "code",
   "execution_count": 86,
   "metadata": {},
   "outputs": [
    {
     "name": "stderr",
     "output_type": "stream",
     "text": [
      "Using TensorFlow backend.\n"
     ]
    }
   ],
   "source": [
    "import keras"
   ]
  },
  {
   "cell_type": "code",
   "execution_count": 65,
   "metadata": {},
   "outputs": [],
   "source": [
    "import theano"
   ]
  },
  {
   "cell_type": "code",
   "execution_count": 66,
   "metadata": {},
   "outputs": [],
   "source": [
    "import numpy as np\n",
    "import matplotlib.pyplot as plt\n",
    "import pandas as pd"
   ]
  },
  {
   "cell_type": "code",
   "execution_count": 67,
   "metadata": {},
   "outputs": [],
   "source": [
    "dataset=pd.read_csv(\"Churn_Modelling.csv\")\n",
    "x=dataset.iloc[:,3:13].values\n",
    "y=dataset.iloc[:,13].values"
   ]
  },
  {
   "cell_type": "code",
   "execution_count": 68,
   "metadata": {},
   "outputs": [
    {
     "data": {
      "text/html": [
       "<div>\n",
       "<style scoped>\n",
       "    .dataframe tbody tr th:only-of-type {\n",
       "        vertical-align: middle;\n",
       "    }\n",
       "\n",
       "    .dataframe tbody tr th {\n",
       "        vertical-align: top;\n",
       "    }\n",
       "\n",
       "    .dataframe thead th {\n",
       "        text-align: right;\n",
       "    }\n",
       "</style>\n",
       "<table border=\"1\" class=\"dataframe\">\n",
       "  <thead>\n",
       "    <tr style=\"text-align: right;\">\n",
       "      <th></th>\n",
       "      <th>RowNumber</th>\n",
       "      <th>CustomerId</th>\n",
       "      <th>Surname</th>\n",
       "      <th>CreditScore</th>\n",
       "      <th>Geography</th>\n",
       "      <th>Gender</th>\n",
       "      <th>Age</th>\n",
       "      <th>Tenure</th>\n",
       "      <th>Balance</th>\n",
       "      <th>NumOfProducts</th>\n",
       "      <th>HasCrCard</th>\n",
       "      <th>IsActiveMember</th>\n",
       "      <th>EstimatedSalary</th>\n",
       "      <th>Exited</th>\n",
       "    </tr>\n",
       "  </thead>\n",
       "  <tbody>\n",
       "    <tr>\n",
       "      <th>0</th>\n",
       "      <td>1</td>\n",
       "      <td>15634602</td>\n",
       "      <td>Hargrave</td>\n",
       "      <td>619</td>\n",
       "      <td>France</td>\n",
       "      <td>Female</td>\n",
       "      <td>42</td>\n",
       "      <td>2</td>\n",
       "      <td>0.00</td>\n",
       "      <td>1</td>\n",
       "      <td>1</td>\n",
       "      <td>1</td>\n",
       "      <td>101348.88</td>\n",
       "      <td>1</td>\n",
       "    </tr>\n",
       "    <tr>\n",
       "      <th>1</th>\n",
       "      <td>2</td>\n",
       "      <td>15647311</td>\n",
       "      <td>Hill</td>\n",
       "      <td>608</td>\n",
       "      <td>Spain</td>\n",
       "      <td>Female</td>\n",
       "      <td>41</td>\n",
       "      <td>1</td>\n",
       "      <td>83807.86</td>\n",
       "      <td>1</td>\n",
       "      <td>0</td>\n",
       "      <td>1</td>\n",
       "      <td>112542.58</td>\n",
       "      <td>0</td>\n",
       "    </tr>\n",
       "    <tr>\n",
       "      <th>2</th>\n",
       "      <td>3</td>\n",
       "      <td>15619304</td>\n",
       "      <td>Onio</td>\n",
       "      <td>502</td>\n",
       "      <td>France</td>\n",
       "      <td>Female</td>\n",
       "      <td>42</td>\n",
       "      <td>8</td>\n",
       "      <td>159660.80</td>\n",
       "      <td>3</td>\n",
       "      <td>1</td>\n",
       "      <td>0</td>\n",
       "      <td>113931.57</td>\n",
       "      <td>1</td>\n",
       "    </tr>\n",
       "    <tr>\n",
       "      <th>3</th>\n",
       "      <td>4</td>\n",
       "      <td>15701354</td>\n",
       "      <td>Boni</td>\n",
       "      <td>699</td>\n",
       "      <td>France</td>\n",
       "      <td>Female</td>\n",
       "      <td>39</td>\n",
       "      <td>1</td>\n",
       "      <td>0.00</td>\n",
       "      <td>2</td>\n",
       "      <td>0</td>\n",
       "      <td>0</td>\n",
       "      <td>93826.63</td>\n",
       "      <td>0</td>\n",
       "    </tr>\n",
       "    <tr>\n",
       "      <th>4</th>\n",
       "      <td>5</td>\n",
       "      <td>15737888</td>\n",
       "      <td>Mitchell</td>\n",
       "      <td>850</td>\n",
       "      <td>Spain</td>\n",
       "      <td>Female</td>\n",
       "      <td>43</td>\n",
       "      <td>2</td>\n",
       "      <td>125510.82</td>\n",
       "      <td>1</td>\n",
       "      <td>1</td>\n",
       "      <td>1</td>\n",
       "      <td>79084.10</td>\n",
       "      <td>0</td>\n",
       "    </tr>\n",
       "  </tbody>\n",
       "</table>\n",
       "</div>"
      ],
      "text/plain": [
       "   RowNumber  CustomerId   Surname  CreditScore Geography  Gender  Age  \\\n",
       "0          1    15634602  Hargrave          619    France  Female   42   \n",
       "1          2    15647311      Hill          608     Spain  Female   41   \n",
       "2          3    15619304      Onio          502    France  Female   42   \n",
       "3          4    15701354      Boni          699    France  Female   39   \n",
       "4          5    15737888  Mitchell          850     Spain  Female   43   \n",
       "\n",
       "   Tenure    Balance  NumOfProducts  HasCrCard  IsActiveMember  \\\n",
       "0       2       0.00              1          1               1   \n",
       "1       1   83807.86              1          0               1   \n",
       "2       8  159660.80              3          1               0   \n",
       "3       1       0.00              2          0               0   \n",
       "4       2  125510.82              1          1               1   \n",
       "\n",
       "   EstimatedSalary  Exited  \n",
       "0        101348.88       1  \n",
       "1        112542.58       0  \n",
       "2        113931.57       1  \n",
       "3         93826.63       0  \n",
       "4         79084.10       0  "
      ]
     },
     "execution_count": 68,
     "metadata": {},
     "output_type": "execute_result"
    }
   ],
   "source": [
    "dataset.head()"
   ]
  },
  {
   "cell_type": "code",
   "execution_count": 69,
   "metadata": {},
   "outputs": [
    {
     "data": {
      "text/plain": [
       "array([[619, 'France', 'Female', ..., 1, 1, 101348.88],\n",
       "       [608, 'Spain', 'Female', ..., 0, 1, 112542.58],\n",
       "       [502, 'France', 'Female', ..., 1, 0, 113931.57],\n",
       "       ..., \n",
       "       [709, 'France', 'Female', ..., 0, 1, 42085.58],\n",
       "       [772, 'Germany', 'Male', ..., 1, 0, 92888.52],\n",
       "       [792, 'France', 'Female', ..., 1, 0, 38190.78]], dtype=object)"
      ]
     },
     "execution_count": 69,
     "metadata": {},
     "output_type": "execute_result"
    }
   ],
   "source": [
    "x\n",
    "\n"
   ]
  },
  {
   "cell_type": "code",
   "execution_count": 70,
   "metadata": {},
   "outputs": [
    {
     "data": {
      "text/plain": [
       "array([1, 0, 1, ..., 1, 1, 0], dtype=int64)"
      ]
     },
     "execution_count": 70,
     "metadata": {},
     "output_type": "execute_result"
    }
   ],
   "source": [
    "y"
   ]
  },
  {
   "cell_type": "code",
   "execution_count": 71,
   "metadata": {},
   "outputs": [],
   "source": [
    "#encoding categorical data\n",
    "from sklearn.preprocessing import LabelEncoder, OneHotEncoder\n",
    "labelencoder_x=LabelEncoder()\n",
    "x[:,1]=labelencoder_x.fit_transform(x[:,1])\n",
    "x[:,2]=labelencoder_x.fit_transform(x[:,2])"
   ]
  },
  {
   "cell_type": "code",
   "execution_count": 72,
   "metadata": {},
   "outputs": [
    {
     "data": {
      "text/plain": [
       "array([[619, 0, 0, ..., 1, 1, 101348.88],\n",
       "       [608, 2, 0, ..., 0, 1, 112542.58],\n",
       "       [502, 0, 0, ..., 1, 0, 113931.57],\n",
       "       ..., \n",
       "       [709, 0, 0, ..., 0, 1, 42085.58],\n",
       "       [772, 1, 1, ..., 1, 0, 92888.52],\n",
       "       [792, 0, 0, ..., 1, 0, 38190.78]], dtype=object)"
      ]
     },
     "execution_count": 72,
     "metadata": {},
     "output_type": "execute_result"
    }
   ],
   "source": [
    "x"
   ]
  },
  {
   "cell_type": "code",
   "execution_count": 73,
   "metadata": {},
   "outputs": [],
   "source": [
    "onehotencoder=OneHotEncoder(categorical_features=[1])\n",
    "x=onehotencoder.fit_transform(x).toarray()"
   ]
  },
  {
   "cell_type": "code",
   "execution_count": 74,
   "metadata": {},
   "outputs": [
    {
     "data": {
      "text/plain": [
       "array([[  1.00000000e+00,   0.00000000e+00,   0.00000000e+00, ...,\n",
       "          1.00000000e+00,   1.00000000e+00,   1.01348880e+05],\n",
       "       [  0.00000000e+00,   0.00000000e+00,   1.00000000e+00, ...,\n",
       "          0.00000000e+00,   1.00000000e+00,   1.12542580e+05],\n",
       "       [  1.00000000e+00,   0.00000000e+00,   0.00000000e+00, ...,\n",
       "          1.00000000e+00,   0.00000000e+00,   1.13931570e+05],\n",
       "       ..., \n",
       "       [  1.00000000e+00,   0.00000000e+00,   0.00000000e+00, ...,\n",
       "          0.00000000e+00,   1.00000000e+00,   4.20855800e+04],\n",
       "       [  0.00000000e+00,   1.00000000e+00,   0.00000000e+00, ...,\n",
       "          1.00000000e+00,   0.00000000e+00,   9.28885200e+04],\n",
       "       [  1.00000000e+00,   0.00000000e+00,   0.00000000e+00, ...,\n",
       "          1.00000000e+00,   0.00000000e+00,   3.81907800e+04]])"
      ]
     },
     "execution_count": 74,
     "metadata": {},
     "output_type": "execute_result"
    }
   ],
   "source": [
    "x"
   ]
  },
  {
   "cell_type": "code",
   "execution_count": 75,
   "metadata": {
    "collapsed": true
   },
   "outputs": [],
   "source": [
    "x=x[:,1:]"
   ]
  },
  {
   "cell_type": "code",
   "execution_count": 76,
   "metadata": {},
   "outputs": [
    {
     "data": {
      "text/plain": [
       "array([[  0.00000000e+00,   0.00000000e+00,   6.19000000e+02, ...,\n",
       "          1.00000000e+00,   1.00000000e+00,   1.01348880e+05],\n",
       "       [  0.00000000e+00,   1.00000000e+00,   6.08000000e+02, ...,\n",
       "          0.00000000e+00,   1.00000000e+00,   1.12542580e+05],\n",
       "       [  0.00000000e+00,   0.00000000e+00,   5.02000000e+02, ...,\n",
       "          1.00000000e+00,   0.00000000e+00,   1.13931570e+05],\n",
       "       ..., \n",
       "       [  0.00000000e+00,   0.00000000e+00,   7.09000000e+02, ...,\n",
       "          0.00000000e+00,   1.00000000e+00,   4.20855800e+04],\n",
       "       [  1.00000000e+00,   0.00000000e+00,   7.72000000e+02, ...,\n",
       "          1.00000000e+00,   0.00000000e+00,   9.28885200e+04],\n",
       "       [  0.00000000e+00,   0.00000000e+00,   7.92000000e+02, ...,\n",
       "          1.00000000e+00,   0.00000000e+00,   3.81907800e+04]])"
      ]
     },
     "execution_count": 76,
     "metadata": {},
     "output_type": "execute_result"
    }
   ],
   "source": [
    "x"
   ]
  },
  {
   "cell_type": "code",
   "execution_count": 79,
   "metadata": {},
   "outputs": [],
   "source": [
    "from sklearn.model_selection import train_test_split"
   ]
  },
  {
   "cell_type": "code",
   "execution_count": 80,
   "metadata": {
    "collapsed": true
   },
   "outputs": [],
   "source": [
    "x_train,x_test,y_train,y_test=train_test_split(x,y,test_size=0.2)"
   ]
  },
  {
   "cell_type": "code",
   "execution_count": 81,
   "metadata": {
    "collapsed": true
   },
   "outputs": [],
   "source": [
    "from sklearn.preprocessing import StandardScaler"
   ]
  },
  {
   "cell_type": "code",
   "execution_count": 83,
   "metadata": {},
   "outputs": [],
   "source": [
    "sc=StandardScaler()\n",
    "x_train=sc.fit_transform(x_train)\n",
    "x_test=sc.transform(x_test)"
   ]
  },
  {
   "cell_type": "markdown",
   "metadata": {},
   "source": [
    "# ANN Starts"
   ]
  },
  {
   "cell_type": "code",
   "execution_count": 87,
   "metadata": {
    "collapsed": true
   },
   "outputs": [],
   "source": [
    "from keras.models import Sequential\n",
    "from keras.layers import Dense"
   ]
  },
  {
   "cell_type": "code",
   "execution_count": 89,
   "metadata": {},
   "outputs": [
    {
     "name": "stderr",
     "output_type": "stream",
     "text": [
      "E:\\New folder\\lib\\site-packages\\ipykernel_launcher.py:3: UserWarning: Update your `Dense` call to the Keras 2 API: `Dense(activation=\"relu\", input_dim=11, units=6, kernel_initializer=\"uniform\")`\n",
      "  This is separate from the ipykernel package so we can avoid doing imports until\n"
     ]
    }
   ],
   "source": [
    "#intialising ANN\n",
    "classifier=Sequential()\n",
    "classifier.add(Dense(output_dim=6,init='uniform',activation='relu',input_dim=11))#first hidden layer take 11 input gives 6 output"
   ]
  },
  {
   "cell_type": "code",
   "execution_count": 90,
   "metadata": {},
   "outputs": [
    {
     "name": "stderr",
     "output_type": "stream",
     "text": [
      "E:\\New folder\\lib\\site-packages\\ipykernel_launcher.py:1: UserWarning: Update your `Dense` call to the Keras 2 API: `Dense(activation=\"relu\", units=6, kernel_initializer=\"uniform\")`\n",
      "  \"\"\"Entry point for launching an IPython kernel.\n"
     ]
    }
   ],
   "source": [
    "classifier.add(Dense(output_dim=6,init='uniform',activation='relu'))#2nd input layer"
   ]
  },
  {
   "cell_type": "code",
   "execution_count": 91,
   "metadata": {},
   "outputs": [
    {
     "name": "stderr",
     "output_type": "stream",
     "text": [
      "E:\\New folder\\lib\\site-packages\\ipykernel_launcher.py:1: UserWarning: Update your `Dense` call to the Keras 2 API: `Dense(activation=\"sigmoid\", units=1, kernel_initializer=\"uniform\")`\n",
      "  \"\"\"Entry point for launching an IPython kernel.\n"
     ]
    }
   ],
   "source": [
    "classifier.add(Dense(output_dim=1,init='uniform',activation='sigmoid'))#output layer"
   ]
  },
  {
   "cell_type": "code",
   "execution_count": 95,
   "metadata": {},
   "outputs": [],
   "source": [
    "classifier.compile(optimizer='adam',loss='binary_crossentropy',metrics=['accuracy'])"
   ]
  },
  {
   "cell_type": "code",
   "execution_count": 96,
   "metadata": {},
   "outputs": [
    {
     "name": "stderr",
     "output_type": "stream",
     "text": [
      "E:\\New folder\\lib\\site-packages\\keras\\models.py:944: UserWarning: The `nb_epoch` argument in `fit` has been renamed `epochs`.\n",
      "  warnings.warn('The `nb_epoch` argument in `fit` '\n"
     ]
    },
    {
     "name": "stdout",
     "output_type": "stream",
     "text": [
      "Epoch 1/200\n",
      "8000/8000 [==============================] - 4s 489us/step - loss: 0.4795 - acc: 0.7959\n",
      "Epoch 2/200\n",
      "8000/8000 [==============================] - 2s 234us/step - loss: 0.4301 - acc: 0.7960\n",
      "Epoch 3/200\n",
      "8000/8000 [==============================] - 2s 241us/step - loss: 0.4254 - acc: 0.7960\n",
      "Epoch 4/200\n",
      "8000/8000 [==============================] - 2s 240us/step - loss: 0.4214 - acc: 0.8091\n",
      "Epoch 5/200\n",
      "8000/8000 [==============================] - 2s 243us/step - loss: 0.4181 - acc: 0.8227\n",
      "Epoch 6/200\n",
      "8000/8000 [==============================] - 2s 241us/step - loss: 0.4160 - acc: 0.8271\n",
      "Epoch 7/200\n",
      "8000/8000 [==============================] - 2s 241us/step - loss: 0.4142 - acc: 0.8280 1s - los\n",
      "Epoch 8/200\n",
      "8000/8000 [==============================] - 2s 239us/step - loss: 0.4126 - acc: 0.8311\n",
      "Epoch 9/200\n",
      "8000/8000 [==============================] - 2s 241us/step - loss: 0.4117 - acc: 0.8316\n",
      "Epoch 10/200\n",
      "8000/8000 [==============================] - 2s 248us/step - loss: 0.4106 - acc: 0.8335\n",
      "Epoch 11/200\n",
      "8000/8000 [==============================] - 2s 236us/step - loss: 0.4089 - acc: 0.8322\n",
      "Epoch 12/200\n",
      "8000/8000 [==============================] - 2s 243us/step - loss: 0.4082 - acc: 0.8309\n",
      "Epoch 13/200\n",
      "8000/8000 [==============================] - 2s 248us/step - loss: 0.4076 - acc: 0.8334\n",
      "Epoch 14/200\n",
      "8000/8000 [==============================] - 2s 242us/step - loss: 0.4071 - acc: 0.8346\n",
      "Epoch 15/200\n",
      "8000/8000 [==============================] - 2s 233us/step - loss: 0.4065 - acc: 0.8349\n",
      "Epoch 16/200\n",
      "8000/8000 [==============================] - 2s 247us/step - loss: 0.4055 - acc: 0.8339\n",
      "Epoch 17/200\n",
      "8000/8000 [==============================] - 2s 238us/step - loss: 0.4045 - acc: 0.8336\n",
      "Epoch 18/200\n",
      "8000/8000 [==============================] - 2s 238us/step - loss: 0.4047 - acc: 0.8342\n",
      "Epoch 19/200\n",
      "8000/8000 [==============================] - 2s 246us/step - loss: 0.4042 - acc: 0.8331\n",
      "Epoch 20/200\n",
      "8000/8000 [==============================] - 2s 250us/step - loss: 0.4035 - acc: 0.8357\n",
      "Epoch 21/200\n",
      "8000/8000 [==============================] - 2s 248us/step - loss: 0.4037 - acc: 0.8351\n",
      "Epoch 22/200\n",
      "8000/8000 [==============================] - 1s 187us/step - loss: 0.4032 - acc: 0.8362\n",
      "Epoch 23/200\n",
      "8000/8000 [==============================] - 1s 186us/step - loss: 0.4024 - acc: 0.8345\n",
      "Epoch 24/200\n",
      "8000/8000 [==============================] - 1s 185us/step - loss: 0.4021 - acc: 0.8376\n",
      "Epoch 25/200\n",
      "8000/8000 [==============================] - 1s 183us/step - loss: 0.4022 - acc: 0.8364\n",
      "Epoch 26/200\n",
      "8000/8000 [==============================] - 1s 185us/step - loss: 0.4020 - acc: 0.8351\n",
      "Epoch 27/200\n",
      "8000/8000 [==============================] - 1s 182us/step - loss: 0.4017 - acc: 0.8347\n",
      "Epoch 28/200\n",
      "8000/8000 [==============================] - 1s 181us/step - loss: 0.4013 - acc: 0.8342\n",
      "Epoch 29/200\n",
      "8000/8000 [==============================] - 1s 181us/step - loss: 0.4011 - acc: 0.8334\n",
      "Epoch 30/200\n",
      "8000/8000 [==============================] - 1s 181us/step - loss: 0.4010 - acc: 0.8355\n",
      "Epoch 31/200\n",
      "8000/8000 [==============================] - 1s 180us/step - loss: 0.4006 - acc: 0.8352\n",
      "Epoch 32/200\n",
      "8000/8000 [==============================] - 1s 181us/step - loss: 0.4005 - acc: 0.8350\n",
      "Epoch 33/200\n",
      "8000/8000 [==============================] - 1s 183us/step - loss: 0.3997 - acc: 0.8349\n",
      "Epoch 34/200\n",
      "8000/8000 [==============================] - 1s 182us/step - loss: 0.4001 - acc: 0.8350\n",
      "Epoch 35/200\n",
      "8000/8000 [==============================] - 2s 195us/step - loss: 0.4000 - acc: 0.8366\n",
      "Epoch 36/200\n",
      "8000/8000 [==============================] - 1s 183us/step - loss: 0.3994 - acc: 0.8371\n",
      "Epoch 37/200\n",
      "8000/8000 [==============================] - 1s 184us/step - loss: 0.3996 - acc: 0.8357\n",
      "Epoch 38/200\n",
      "8000/8000 [==============================] - 1s 182us/step - loss: 0.3994 - acc: 0.8359\n",
      "Epoch 39/200\n",
      "8000/8000 [==============================] - 1s 182us/step - loss: 0.3991 - acc: 0.8345\n",
      "Epoch 40/200\n",
      "8000/8000 [==============================] - 1s 181us/step - loss: 0.3995 - acc: 0.8361\n",
      "Epoch 41/200\n",
      "8000/8000 [==============================] - 1s 182us/step - loss: 0.3990 - acc: 0.8362\n",
      "Epoch 42/200\n",
      "8000/8000 [==============================] - 1s 180us/step - loss: 0.3988 - acc: 0.8365\n",
      "Epoch 43/200\n",
      "8000/8000 [==============================] - 1s 177us/step - loss: 0.3992 - acc: 0.8360\n",
      "Epoch 44/200\n",
      "8000/8000 [==============================] - 1s 178us/step - loss: 0.3984 - acc: 0.8352\n",
      "Epoch 45/200\n",
      "8000/8000 [==============================] - 1s 180us/step - loss: 0.3988 - acc: 0.8347\n",
      "Epoch 46/200\n",
      "8000/8000 [==============================] - 1s 184us/step - loss: 0.3989 - acc: 0.8346\n",
      "Epoch 47/200\n",
      "8000/8000 [==============================] - 1s 182us/step - loss: 0.3983 - acc: 0.8381\n",
      "Epoch 48/200\n",
      "8000/8000 [==============================] - 1s 187us/step - loss: 0.3982 - acc: 0.8376\n",
      "Epoch 49/200\n",
      "8000/8000 [==============================] - 1s 182us/step - loss: 0.3978 - acc: 0.8366\n",
      "Epoch 50/200\n",
      "8000/8000 [==============================] - 1s 177us/step - loss: 0.3980 - acc: 0.8364\n",
      "Epoch 51/200\n",
      "8000/8000 [==============================] - 1s 180us/step - loss: 0.3986 - acc: 0.8345\n",
      "Epoch 52/200\n",
      "8000/8000 [==============================] - 2s 192us/step - loss: 0.3981 - acc: 0.8359\n",
      "Epoch 53/200\n",
      "8000/8000 [==============================] - 1s 174us/step - loss: 0.3984 - acc: 0.8360\n",
      "Epoch 54/200\n",
      "8000/8000 [==============================] - 1s 185us/step - loss: 0.3982 - acc: 0.8362\n",
      "Epoch 55/200\n",
      "8000/8000 [==============================] - 1s 177us/step - loss: 0.3981 - acc: 0.8364\n",
      "Epoch 56/200\n",
      "8000/8000 [==============================] - 1s 181us/step - loss: 0.3982 - acc: 0.8356\n",
      "Epoch 57/200\n",
      "8000/8000 [==============================] - 1s 178us/step - loss: 0.3981 - acc: 0.8352\n",
      "Epoch 58/200\n",
      "8000/8000 [==============================] - 1s 175us/step - loss: 0.3981 - acc: 0.8351\n",
      "Epoch 59/200\n",
      "8000/8000 [==============================] - 1s 174us/step - loss: 0.3975 - acc: 0.8360\n",
      "Epoch 60/200\n",
      "8000/8000 [==============================] - 1s 176us/step - loss: 0.3981 - acc: 0.8371\n",
      "Epoch 61/200\n",
      "8000/8000 [==============================] - 1s 172us/step - loss: 0.3981 - acc: 0.8361\n",
      "Epoch 62/200\n",
      "8000/8000 [==============================] - 1s 173us/step - loss: 0.3975 - acc: 0.8365\n",
      "Epoch 63/200\n",
      "8000/8000 [==============================] - 1s 176us/step - loss: 0.3978 - acc: 0.8345\n",
      "Epoch 64/200\n",
      "8000/8000 [==============================] - 1s 172us/step - loss: 0.3972 - acc: 0.8366\n",
      "Epoch 65/200\n",
      "8000/8000 [==============================] - 1s 168us/step - loss: 0.3980 - acc: 0.8342\n",
      "Epoch 66/200\n",
      "8000/8000 [==============================] - 1s 174us/step - loss: 0.3979 - acc: 0.8361\n",
      "Epoch 67/200\n",
      "8000/8000 [==============================] - 1s 174us/step - loss: 0.3977 - acc: 0.8351\n",
      "Epoch 68/200\n",
      "8000/8000 [==============================] - 1s 169us/step - loss: 0.3979 - acc: 0.8361\n",
      "Epoch 69/200\n",
      "8000/8000 [==============================] - 1s 173us/step - loss: 0.3977 - acc: 0.8360\n",
      "Epoch 70/200\n",
      "8000/8000 [==============================] - 1s 178us/step - loss: 0.3981 - acc: 0.8352\n",
      "Epoch 71/200\n",
      "8000/8000 [==============================] - 1s 169us/step - loss: 0.3974 - acc: 0.8369\n",
      "Epoch 72/200\n",
      "8000/8000 [==============================] - 1s 159us/step - loss: 0.3976 - acc: 0.8355\n",
      "Epoch 73/200\n",
      "8000/8000 [==============================] - 1s 169us/step - loss: 0.3975 - acc: 0.8361\n",
      "Epoch 74/200\n",
      "8000/8000 [==============================] - 1s 175us/step - loss: 0.3972 - acc: 0.8372\n",
      "Epoch 75/200\n",
      "8000/8000 [==============================] - 1s 166us/step - loss: 0.3975 - acc: 0.8344\n",
      "Epoch 76/200\n",
      "8000/8000 [==============================] - 1s 166us/step - loss: 0.3979 - acc: 0.8349\n",
      "Epoch 77/200\n",
      "8000/8000 [==============================] - 1s 171us/step - loss: 0.3975 - acc: 0.8370\n",
      "Epoch 78/200\n",
      "8000/8000 [==============================] - 1s 167us/step - loss: 0.3976 - acc: 0.8364\n",
      "Epoch 79/200\n",
      "8000/8000 [==============================] - 1s 174us/step - loss: 0.3972 - acc: 0.8354\n",
      "Epoch 80/200\n",
      "8000/8000 [==============================] - 1s 173us/step - loss: 0.3976 - acc: 0.8359\n",
      "Epoch 81/200\n",
      "8000/8000 [==============================] - 1s 167us/step - loss: 0.3973 - acc: 0.8374\n",
      "Epoch 82/200\n"
     ]
    },
    {
     "name": "stdout",
     "output_type": "stream",
     "text": [
      "8000/8000 [==============================] - 1s 176us/step - loss: 0.3968 - acc: 0.8352\n",
      "Epoch 83/200\n",
      "8000/8000 [==============================] - 1s 180us/step - loss: 0.3978 - acc: 0.8376\n",
      "Epoch 84/200\n",
      "8000/8000 [==============================] - 1s 178us/step - loss: 0.3973 - acc: 0.8366\n",
      "Epoch 85/200\n",
      "8000/8000 [==============================] - 1s 176us/step - loss: 0.3973 - acc: 0.8360\n",
      "Epoch 86/200\n",
      "8000/8000 [==============================] - 1s 177us/step - loss: 0.3967 - acc: 0.8374\n",
      "Epoch 87/200\n",
      "8000/8000 [==============================] - 1s 178us/step - loss: 0.3970 - acc: 0.8360\n",
      "Epoch 88/200\n",
      "8000/8000 [==============================] - 1s 176us/step - loss: 0.3974 - acc: 0.8350\n",
      "Epoch 89/200\n",
      "8000/8000 [==============================] - 1s 180us/step - loss: 0.3976 - acc: 0.8359\n",
      "Epoch 90/200\n",
      "8000/8000 [==============================] - 1s 174us/step - loss: 0.3973 - acc: 0.8342\n",
      "Epoch 91/200\n",
      "8000/8000 [==============================] - 1s 177us/step - loss: 0.3974 - acc: 0.8360\n",
      "Epoch 92/200\n",
      "8000/8000 [==============================] - 1s 176us/step - loss: 0.3969 - acc: 0.8372\n",
      "Epoch 93/200\n",
      "8000/8000 [==============================] - 1s 177us/step - loss: 0.3974 - acc: 0.8360\n",
      "Epoch 94/200\n",
      "8000/8000 [==============================] - 1s 176us/step - loss: 0.3975 - acc: 0.8360\n",
      "Epoch 95/200\n",
      "8000/8000 [==============================] - 1s 175us/step - loss: 0.3970 - acc: 0.8350\n",
      "Epoch 96/200\n",
      "8000/8000 [==============================] - 1s 177us/step - loss: 0.3976 - acc: 0.8371\n",
      "Epoch 97/200\n",
      "8000/8000 [==============================] - 1s 177us/step - loss: 0.3969 - acc: 0.8357\n",
      "Epoch 98/200\n",
      "8000/8000 [==============================] - 1s 175us/step - loss: 0.3971 - acc: 0.8371\n",
      "Epoch 99/200\n",
      "8000/8000 [==============================] - 1s 175us/step - loss: 0.3968 - acc: 0.8377\n",
      "Epoch 100/200\n",
      "8000/8000 [==============================] - 1s 174us/step - loss: 0.3973 - acc: 0.8356\n",
      "Epoch 101/200\n",
      "8000/8000 [==============================] - 2s 253us/step - loss: 0.3968 - acc: 0.8359\n",
      "Epoch 102/200\n",
      "8000/8000 [==============================] - 1s 164us/step - loss: 0.3972 - acc: 0.8370\n",
      "Epoch 103/200\n",
      "8000/8000 [==============================] - 1s 115us/step - loss: 0.3973 - acc: 0.8360\n",
      "Epoch 104/200\n",
      "8000/8000 [==============================] - 1s 118us/step - loss: 0.3973 - acc: 0.8346\n",
      "Epoch 105/200\n",
      "8000/8000 [==============================] - 1s 117us/step - loss: 0.3972 - acc: 0.8381\n",
      "Epoch 106/200\n",
      "8000/8000 [==============================] - 1s 116us/step - loss: 0.3973 - acc: 0.8374\n",
      "Epoch 107/200\n",
      "8000/8000 [==============================] - 1s 125us/step - loss: 0.3968 - acc: 0.8370\n",
      "Epoch 108/200\n",
      "8000/8000 [==============================] - 1s 116us/step - loss: 0.3972 - acc: 0.8359\n",
      "Epoch 109/200\n",
      "8000/8000 [==============================] - 1s 117us/step - loss: 0.3968 - acc: 0.8366\n",
      "Epoch 110/200\n",
      "8000/8000 [==============================] - 1s 122us/step - loss: 0.3970 - acc: 0.8367\n",
      "Epoch 111/200\n",
      "8000/8000 [==============================] - 1s 123us/step - loss: 0.3970 - acc: 0.8355\n",
      "Epoch 112/200\n",
      "8000/8000 [==============================] - 1s 135us/step - loss: 0.3970 - acc: 0.8364\n",
      "Epoch 113/200\n",
      "8000/8000 [==============================] - 1s 141us/step - loss: 0.3971 - acc: 0.8355\n",
      "Epoch 114/200\n",
      "8000/8000 [==============================] - 1s 141us/step - loss: 0.3968 - acc: 0.8381\n",
      "Epoch 115/200\n",
      "8000/8000 [==============================] - 1s 134us/step - loss: 0.3970 - acc: 0.8349\n",
      "Epoch 116/200\n",
      "8000/8000 [==============================] - 1s 133us/step - loss: 0.3974 - acc: 0.8364\n",
      "Epoch 117/200\n",
      "8000/8000 [==============================] - 1s 131us/step - loss: 0.3969 - acc: 0.8382\n",
      "Epoch 118/200\n",
      "8000/8000 [==============================] - 1s 139us/step - loss: 0.3969 - acc: 0.8360\n",
      "Epoch 119/200\n",
      "8000/8000 [==============================] - 1s 131us/step - loss: 0.3967 - acc: 0.8382\n",
      "Epoch 120/200\n",
      "8000/8000 [==============================] - 1s 133us/step - loss: 0.3976 - acc: 0.8360\n",
      "Epoch 121/200\n",
      "8000/8000 [==============================] - 1s 134us/step - loss: 0.3968 - acc: 0.8371\n",
      "Epoch 122/200\n",
      "8000/8000 [==============================] - 1s 132us/step - loss: 0.3968 - acc: 0.8352\n",
      "Epoch 123/200\n",
      "8000/8000 [==============================] - 1s 141us/step - loss: 0.3973 - acc: 0.8357\n",
      "Epoch 124/200\n",
      "8000/8000 [==============================] - 1s 132us/step - loss: 0.3972 - acc: 0.8369\n",
      "Epoch 125/200\n",
      "8000/8000 [==============================] - 1s 133us/step - loss: 0.3971 - acc: 0.8351\n",
      "Epoch 126/200\n",
      "8000/8000 [==============================] - 1s 136us/step - loss: 0.3972 - acc: 0.8371\n",
      "Epoch 127/200\n",
      "8000/8000 [==============================] - 1s 140us/step - loss: 0.3969 - acc: 0.8382\n",
      "Epoch 128/200\n",
      "8000/8000 [==============================] - 1s 131us/step - loss: 0.3965 - acc: 0.8374\n",
      "Epoch 129/200\n",
      "8000/8000 [==============================] - 1s 129us/step - loss: 0.3971 - acc: 0.8345\n",
      "Epoch 130/200\n",
      "8000/8000 [==============================] - 1s 131us/step - loss: 0.3967 - acc: 0.8367\n",
      "Epoch 131/200\n",
      "8000/8000 [==============================] - 1s 133us/step - loss: 0.3971 - acc: 0.8360\n",
      "Epoch 132/200\n",
      "8000/8000 [==============================] - 1s 139us/step - loss: 0.3967 - acc: 0.8356\n",
      "Epoch 133/200\n",
      "8000/8000 [==============================] - 1s 136us/step - loss: 0.3971 - acc: 0.8360\n",
      "Epoch 134/200\n",
      "8000/8000 [==============================] - 1s 143us/step - loss: 0.3970 - acc: 0.8371\n",
      "Epoch 135/200\n",
      "8000/8000 [==============================] - 1s 139us/step - loss: 0.3968 - acc: 0.8356\n",
      "Epoch 136/200\n",
      "8000/8000 [==============================] - 1s 148us/step - loss: 0.3970 - acc: 0.8356\n",
      "Epoch 137/200\n",
      "8000/8000 [==============================] - 1s 171us/step - loss: 0.3970 - acc: 0.8369\n",
      "Epoch 138/200\n",
      "8000/8000 [==============================] - 1s 172us/step - loss: 0.3968 - acc: 0.8372\n",
      "Epoch 139/200\n",
      "8000/8000 [==============================] - 1s 148us/step - loss: 0.3970 - acc: 0.8365\n",
      "Epoch 140/200\n",
      "8000/8000 [==============================] - 1s 145us/step - loss: 0.3968 - acc: 0.8355\n",
      "Epoch 141/200\n",
      "8000/8000 [==============================] - 1s 134us/step - loss: 0.3968 - acc: 0.8360\n",
      "Epoch 142/200\n",
      "8000/8000 [==============================] - 1s 137us/step - loss: 0.3971 - acc: 0.8366\n",
      "Epoch 143/200\n",
      "8000/8000 [==============================] - 1s 139us/step - loss: 0.3967 - acc: 0.8376\n",
      "Epoch 144/200\n",
      "8000/8000 [==============================] - 1s 129us/step - loss: 0.3969 - acc: 0.8352\n",
      "Epoch 145/200\n",
      "8000/8000 [==============================] - 1s 139us/step - loss: 0.3968 - acc: 0.8352\n",
      "Epoch 146/200\n",
      "8000/8000 [==============================] - 1s 124us/step - loss: 0.3972 - acc: 0.8365\n",
      "Epoch 147/200\n",
      "8000/8000 [==============================] - 1s 122us/step - loss: 0.3970 - acc: 0.8349\n",
      "Epoch 148/200\n",
      "8000/8000 [==============================] - 1s 162us/step - loss: 0.3967 - acc: 0.8364\n",
      "Epoch 149/200\n",
      "8000/8000 [==============================] - 2s 257us/step - loss: 0.3969 - acc: 0.8347\n",
      "Epoch 150/200\n",
      "8000/8000 [==============================] - 2s 234us/step - loss: 0.3967 - acc: 0.8355\n",
      "Epoch 151/200\n",
      "8000/8000 [==============================] - 1s 138us/step - loss: 0.3967 - acc: 0.8366\n",
      "Epoch 152/200\n",
      "8000/8000 [==============================] - 1s 150us/step - loss: 0.3965 - acc: 0.8375\n",
      "Epoch 153/200\n",
      "8000/8000 [==============================] - 1s 132us/step - loss: 0.3966 - acc: 0.8367\n",
      "Epoch 154/200\n",
      "8000/8000 [==============================] - 1s 149us/step - loss: 0.3968 - acc: 0.8367\n",
      "Epoch 155/200\n",
      "8000/8000 [==============================] - 1s 129us/step - loss: 0.3971 - acc: 0.8361\n",
      "Epoch 156/200\n",
      "8000/8000 [==============================] - 1s 138us/step - loss: 0.3966 - acc: 0.8375\n",
      "Epoch 157/200\n",
      "8000/8000 [==============================] - 1s 167us/step - loss: 0.3970 - acc: 0.8366\n",
      "Epoch 158/200\n",
      "8000/8000 [==============================] - 1s 129us/step - loss: 0.3968 - acc: 0.8376\n",
      "Epoch 159/200\n",
      "8000/8000 [==============================] - 1s 126us/step - loss: 0.3967 - acc: 0.8364\n",
      "Epoch 160/200\n",
      "8000/8000 [==============================] - 1s 123us/step - loss: 0.3971 - acc: 0.8364\n",
      "Epoch 161/200\n",
      "8000/8000 [==============================] - 1s 165us/step - loss: 0.3961 - acc: 0.8369\n",
      "Epoch 162/200\n"
     ]
    },
    {
     "name": "stdout",
     "output_type": "stream",
     "text": [
      "8000/8000 [==============================] - 1s 125us/step - loss: 0.3972 - acc: 0.8357\n",
      "Epoch 163/200\n",
      "8000/8000 [==============================] - 1s 132us/step - loss: 0.3968 - acc: 0.8385\n",
      "Epoch 164/200\n",
      "8000/8000 [==============================] - 1s 123us/step - loss: 0.3967 - acc: 0.8371\n",
      "Epoch 165/200\n",
      "8000/8000 [==============================] - 1s 123us/step - loss: 0.3968 - acc: 0.8374\n",
      "Epoch 166/200\n",
      "8000/8000 [==============================] - 1s 133us/step - loss: 0.3968 - acc: 0.8349\n",
      "Epoch 167/200\n",
      "8000/8000 [==============================] - 1s 125us/step - loss: 0.3963 - acc: 0.8361\n",
      "Epoch 168/200\n",
      "8000/8000 [==============================] - 1s 128us/step - loss: 0.3968 - acc: 0.8367\n",
      "Epoch 169/200\n",
      "8000/8000 [==============================] - 1s 122us/step - loss: 0.3973 - acc: 0.8362\n",
      "Epoch 170/200\n",
      "8000/8000 [==============================] - 1s 124us/step - loss: 0.3964 - acc: 0.8360\n",
      "Epoch 171/200\n",
      "8000/8000 [==============================] - 1s 131us/step - loss: 0.3967 - acc: 0.8359\n",
      "Epoch 172/200\n",
      "8000/8000 [==============================] - 1s 120us/step - loss: 0.3967 - acc: 0.8362\n",
      "Epoch 173/200\n",
      "8000/8000 [==============================] - 1s 123us/step - loss: 0.3965 - acc: 0.8374\n",
      "Epoch 174/200\n",
      "8000/8000 [==============================] - 1s 120us/step - loss: 0.3970 - acc: 0.8366\n",
      "Epoch 175/200\n",
      "8000/8000 [==============================] - 1s 120us/step - loss: 0.3961 - acc: 0.8370\n",
      "Epoch 176/200\n",
      "8000/8000 [==============================] - 1s 130us/step - loss: 0.3966 - acc: 0.8361\n",
      "Epoch 177/200\n",
      "8000/8000 [==============================] - 1s 122us/step - loss: 0.3967 - acc: 0.8360\n",
      "Epoch 178/200\n",
      "8000/8000 [==============================] - 1s 119us/step - loss: 0.3971 - acc: 0.8352\n",
      "Epoch 179/200\n",
      "8000/8000 [==============================] - 1s 118us/step - loss: 0.3967 - acc: 0.8366\n",
      "Epoch 180/200\n",
      "8000/8000 [==============================] - 1s 119us/step - loss: 0.3965 - acc: 0.8365\n",
      "Epoch 181/200\n",
      "8000/8000 [==============================] - 1s 123us/step - loss: 0.3970 - acc: 0.8360\n",
      "Epoch 182/200\n",
      "8000/8000 [==============================] - 1s 126us/step - loss: 0.3963 - acc: 0.8354\n",
      "Epoch 183/200\n",
      "8000/8000 [==============================] - 1s 119us/step - loss: 0.3971 - acc: 0.8359\n",
      "Epoch 184/200\n",
      "8000/8000 [==============================] - 1s 120us/step - loss: 0.3967 - acc: 0.8364\n",
      "Epoch 185/200\n",
      "8000/8000 [==============================] - 1s 119us/step - loss: 0.3966 - acc: 0.8357\n",
      "Epoch 186/200\n",
      "8000/8000 [==============================] - 1s 122us/step - loss: 0.3968 - acc: 0.8360\n",
      "Epoch 187/200\n",
      "8000/8000 [==============================] - 1s 132us/step - loss: 0.3972 - acc: 0.8372\n",
      "Epoch 188/200\n",
      "8000/8000 [==============================] - 1s 120us/step - loss: 0.3959 - acc: 0.8379\n",
      "Epoch 189/200\n",
      "8000/8000 [==============================] - 1s 132us/step - loss: 0.3962 - acc: 0.8374\n",
      "Epoch 190/200\n",
      "8000/8000 [==============================] - 1s 122us/step - loss: 0.3967 - acc: 0.8370\n",
      "Epoch 191/200\n",
      "8000/8000 [==============================] - 1s 121us/step - loss: 0.3966 - acc: 0.8369\n",
      "Epoch 192/200\n",
      "8000/8000 [==============================] - 1s 128us/step - loss: 0.3962 - acc: 0.8367\n",
      "Epoch 193/200\n",
      "8000/8000 [==============================] - 1s 119us/step - loss: 0.3965 - acc: 0.8367\n",
      "Epoch 194/200\n",
      "8000/8000 [==============================] - 1s 118us/step - loss: 0.3964 - acc: 0.8369\n",
      "Epoch 195/200\n",
      "8000/8000 [==============================] - 1s 121us/step - loss: 0.3968 - acc: 0.8370\n",
      "Epoch 196/200\n",
      "8000/8000 [==============================] - 1s 123us/step - loss: 0.3966 - acc: 0.8365\n",
      "Epoch 197/200\n",
      "8000/8000 [==============================] - 1s 134us/step - loss: 0.3967 - acc: 0.8385\n",
      "Epoch 198/200\n",
      "8000/8000 [==============================] - 1s 128us/step - loss: 0.3964 - acc: 0.8379\n",
      "Epoch 199/200\n",
      "8000/8000 [==============================] - 1s 125us/step - loss: 0.3963 - acc: 0.8367\n",
      "Epoch 200/200\n",
      "8000/8000 [==============================] - 1s 139us/step - loss: 0.3966 - acc: 0.8349\n"
     ]
    },
    {
     "data": {
      "text/plain": [
       "<keras.callbacks.History at 0x242fe696a90>"
      ]
     },
     "execution_count": 96,
     "metadata": {},
     "output_type": "execute_result"
    }
   ],
   "source": [
    "classifier.fit(x_train,y_train,batch_size=10,nb_epoch=200)"
   ]
  },
  {
   "cell_type": "code",
   "execution_count": 101,
   "metadata": {
    "collapsed": true
   },
   "outputs": [],
   "source": [
    "y_pred=classifier.predict(x_test)\n",
    "y_pred=(y_pred>0.5)"
   ]
  },
  {
   "cell_type": "code",
   "execution_count": 102,
   "metadata": {},
   "outputs": [],
   "source": [
    "from sklearn.metrics import confusion_matrix\n",
    "cm=confusion_matrix(y_test,y_pred)"
   ]
  },
  {
   "cell_type": "code",
   "execution_count": 103,
   "metadata": {},
   "outputs": [
    {
     "data": {
      "text/plain": [
       "array([[1530,   65],\n",
       "       [ 266,  139]], dtype=int64)"
      ]
     },
     "execution_count": 103,
     "metadata": {},
     "output_type": "execute_result"
    }
   ],
   "source": [
    "cm"
   ]
  },
  {
   "cell_type": "code",
   "execution_count": null,
   "metadata": {
    "collapsed": true
   },
   "outputs": [],
   "source": []
  }
 ],
 "metadata": {
  "kernelspec": {
   "display_name": "Python 3",
   "language": "python",
   "name": "python3"
  },
  "language_info": {
   "codemirror_mode": {
    "name": "ipython",
    "version": 3
   },
   "file_extension": ".py",
   "mimetype": "text/x-python",
   "name": "python",
   "nbconvert_exporter": "python",
   "pygments_lexer": "ipython3",
   "version": "3.6.3"
  }
 },
 "nbformat": 4,
 "nbformat_minor": 2
}
