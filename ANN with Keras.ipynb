{
 "cells": [
  {
   "cell_type": "code",
   "execution_count": 70,
   "metadata": {
    "collapsed": true
   },
   "outputs": [],
   "source": [
    "import tensorflow as tf #we import tensorflow as tf"
   ]
  },
  {
   "cell_type": "code",
   "execution_count": 71,
   "metadata": {},
   "outputs": [],
   "source": [
    "import keras"
   ]
  },
  {
   "cell_type": "code",
   "execution_count": 72,
   "metadata": {
    "collapsed": true
   },
   "outputs": [],
   "source": [
    "#importing important libraries for data analysis\n",
    "import numpy as np\n",
    "import matplotlib.pyplot as plt\n",
    "import pandas as pd"
   ]
  },
  {
   "cell_type": "code",
   "execution_count": 73,
   "metadata": {
    "collapsed": true
   },
   "outputs": [],
   "source": [
    "dataset=pd.read_csv(\"Churn_Modelling.csv\")#to read the dataset which is present in Churn_Modelling.csv"
   ]
  },
  {
   "cell_type": "code",
   "execution_count": 74,
   "metadata": {},
   "outputs": [
    {
     "data": {
      "text/html": [
       "<div>\n",
       "<style scoped>\n",
       "    .dataframe tbody tr th:only-of-type {\n",
       "        vertical-align: middle;\n",
       "    }\n",
       "\n",
       "    .dataframe tbody tr th {\n",
       "        vertical-align: top;\n",
       "    }\n",
       "\n",
       "    .dataframe thead th {\n",
       "        text-align: right;\n",
       "    }\n",
       "</style>\n",
       "<table border=\"1\" class=\"dataframe\">\n",
       "  <thead>\n",
       "    <tr style=\"text-align: right;\">\n",
       "      <th></th>\n",
       "      <th>RowNumber</th>\n",
       "      <th>CustomerId</th>\n",
       "      <th>Surname</th>\n",
       "      <th>CreditScore</th>\n",
       "      <th>Geography</th>\n",
       "      <th>Gender</th>\n",
       "      <th>Age</th>\n",
       "      <th>Tenure</th>\n",
       "      <th>Balance</th>\n",
       "      <th>NumOfProducts</th>\n",
       "      <th>HasCrCard</th>\n",
       "      <th>IsActiveMember</th>\n",
       "      <th>EstimatedSalary</th>\n",
       "      <th>Exited</th>\n",
       "    </tr>\n",
       "  </thead>\n",
       "  <tbody>\n",
       "    <tr>\n",
       "      <th>0</th>\n",
       "      <td>1</td>\n",
       "      <td>15634602</td>\n",
       "      <td>Hargrave</td>\n",
       "      <td>619</td>\n",
       "      <td>France</td>\n",
       "      <td>Female</td>\n",
       "      <td>42</td>\n",
       "      <td>2</td>\n",
       "      <td>0.00</td>\n",
       "      <td>1</td>\n",
       "      <td>1</td>\n",
       "      <td>1</td>\n",
       "      <td>101348.88</td>\n",
       "      <td>1</td>\n",
       "    </tr>\n",
       "    <tr>\n",
       "      <th>1</th>\n",
       "      <td>2</td>\n",
       "      <td>15647311</td>\n",
       "      <td>Hill</td>\n",
       "      <td>608</td>\n",
       "      <td>Spain</td>\n",
       "      <td>Female</td>\n",
       "      <td>41</td>\n",
       "      <td>1</td>\n",
       "      <td>83807.86</td>\n",
       "      <td>1</td>\n",
       "      <td>0</td>\n",
       "      <td>1</td>\n",
       "      <td>112542.58</td>\n",
       "      <td>0</td>\n",
       "    </tr>\n",
       "    <tr>\n",
       "      <th>2</th>\n",
       "      <td>3</td>\n",
       "      <td>15619304</td>\n",
       "      <td>Onio</td>\n",
       "      <td>502</td>\n",
       "      <td>France</td>\n",
       "      <td>Female</td>\n",
       "      <td>42</td>\n",
       "      <td>8</td>\n",
       "      <td>159660.80</td>\n",
       "      <td>3</td>\n",
       "      <td>1</td>\n",
       "      <td>0</td>\n",
       "      <td>113931.57</td>\n",
       "      <td>1</td>\n",
       "    </tr>\n",
       "    <tr>\n",
       "      <th>3</th>\n",
       "      <td>4</td>\n",
       "      <td>15701354</td>\n",
       "      <td>Boni</td>\n",
       "      <td>699</td>\n",
       "      <td>France</td>\n",
       "      <td>Female</td>\n",
       "      <td>39</td>\n",
       "      <td>1</td>\n",
       "      <td>0.00</td>\n",
       "      <td>2</td>\n",
       "      <td>0</td>\n",
       "      <td>0</td>\n",
       "      <td>93826.63</td>\n",
       "      <td>0</td>\n",
       "    </tr>\n",
       "    <tr>\n",
       "      <th>4</th>\n",
       "      <td>5</td>\n",
       "      <td>15737888</td>\n",
       "      <td>Mitchell</td>\n",
       "      <td>850</td>\n",
       "      <td>Spain</td>\n",
       "      <td>Female</td>\n",
       "      <td>43</td>\n",
       "      <td>2</td>\n",
       "      <td>125510.82</td>\n",
       "      <td>1</td>\n",
       "      <td>1</td>\n",
       "      <td>1</td>\n",
       "      <td>79084.10</td>\n",
       "      <td>0</td>\n",
       "    </tr>\n",
       "  </tbody>\n",
       "</table>\n",
       "</div>"
      ],
      "text/plain": [
       "   RowNumber  CustomerId   Surname  CreditScore Geography  Gender  Age  \\\n",
       "0          1    15634602  Hargrave          619    France  Female   42   \n",
       "1          2    15647311      Hill          608     Spain  Female   41   \n",
       "2          3    15619304      Onio          502    France  Female   42   \n",
       "3          4    15701354      Boni          699    France  Female   39   \n",
       "4          5    15737888  Mitchell          850     Spain  Female   43   \n",
       "\n",
       "   Tenure    Balance  NumOfProducts  HasCrCard  IsActiveMember  \\\n",
       "0       2       0.00              1          1               1   \n",
       "1       1   83807.86              1          0               1   \n",
       "2       8  159660.80              3          1               0   \n",
       "3       1       0.00              2          0               0   \n",
       "4       2  125510.82              1          1               1   \n",
       "\n",
       "   EstimatedSalary  Exited  \n",
       "0        101348.88       1  \n",
       "1        112542.58       0  \n",
       "2        113931.57       1  \n",
       "3         93826.63       0  \n",
       "4         79084.10       0  "
      ]
     },
     "execution_count": 74,
     "metadata": {},
     "output_type": "execute_result"
    }
   ],
   "source": [
    "dataset.head()\n",
    "#it is a dataset from a bank(6 months) which shows that there are some customers who are going to leave the bank or not and some data also given realed to the customers. Our task is to train our ANN model on the given dataset and on the basis of that data we con find whether that particular customer going to leave the bank or not."
   ]
  },
  {
   "cell_type": "code",
   "execution_count": 75,
   "metadata": {},
   "outputs": [],
   "source": [
    "x=dataset.iloc[:,3:13].values#there are only column number 3 to 12 because that values are only responsible for the output.\n",
    "y=dataset.iloc[:,13].values#output\n",
    "\n"
   ]
  },
  {
   "cell_type": "code",
   "execution_count": 76,
   "metadata": {},
   "outputs": [
    {
     "data": {
      "text/plain": [
       "array([[619, 'France', 'Female', ..., 1, 1, 101348.88],\n",
       "       [608, 'Spain', 'Female', ..., 0, 1, 112542.58],\n",
       "       [502, 'France', 'Female', ..., 1, 0, 113931.57],\n",
       "       ..., \n",
       "       [709, 'France', 'Female', ..., 0, 1, 42085.58],\n",
       "       [772, 'Germany', 'Male', ..., 1, 0, 92888.52],\n",
       "       [792, 'France', 'Female', ..., 1, 0, 38190.78]], dtype=object)"
      ]
     },
     "execution_count": 76,
     "metadata": {},
     "output_type": "execute_result"
    }
   ],
   "source": [
    "x#shows an array with contain value of all rows from column 3 to 12."
   ]
  },
  {
   "cell_type": "code",
   "execution_count": 77,
   "metadata": {},
   "outputs": [
    {
     "data": {
      "text/plain": [
       "array([1, 0, 1, ..., 1, 1, 0], dtype=int64)"
      ]
     },
     "execution_count": 77,
     "metadata": {},
     "output_type": "execute_result"
    }
   ],
   "source": [
    "y#1 represents customer is with bank, 0 reprents that customer  leaves the bank."
   ]
  },
  {
   "cell_type": "code",
   "execution_count": 78,
   "metadata": {
    "collapsed": true
   },
   "outputs": [],
   "source": [
    "#encoding categorical data\n",
    "#our model is not able to understand alphabets like france, male,female etc so we are going to convert it into 0,1,2,...etc\n",
    "from sklearn.preprocessing import LabelEncoder, OneHotEncoder\n",
    "labelencoder_x=LabelEncoder()\n",
    "x[:,1]=labelencoder_x.fit_transform(x[:,1])#convert france into 0,Germany into 1 and Spain into 3 and so on \n",
    "x[:,2]=labelencoder_x.fit_transform(x[:,2])#convert female into 0 and male into 1"
   ]
  },
  {
   "cell_type": "code",
   "execution_count": 79,
   "metadata": {},
   "outputs": [
    {
     "data": {
      "text/plain": [
       "(10000, 10)"
      ]
     },
     "execution_count": 79,
     "metadata": {},
     "output_type": "execute_result"
    }
   ],
   "source": [
    "x.shape"
   ]
  },
  {
   "cell_type": "code",
   "execution_count": 80,
   "metadata": {},
   "outputs": [
    {
     "data": {
      "text/plain": [
       "array([608, 2, 0, 41, 1, 83807.86, 1, 0, 1, 112542.58], dtype=object)"
      ]
     },
     "execution_count": 80,
     "metadata": {},
     "output_type": "execute_result"
    }
   ],
   "source": [
    "x[1]"
   ]
  },
  {
   "cell_type": "code",
   "execution_count": 81,
   "metadata": {
    "collapsed": true
   },
   "outputs": [],
   "source": [
    "onehotencoder=OneHotEncoder(categorical_features=[1])#check out this link to understand onehot encoder \"https://machinelearningmastery.com/why-one-hot-encode-data-in-machine-learning/\" her column number expand into 3 columns that is why now total number of columns is 12\n",
    "x1=onehotencoder.fit_transform(x).toarray()"
   ]
  },
  {
   "cell_type": "code",
   "execution_count": 82,
   "metadata": {},
   "outputs": [
    {
     "name": "stdout",
     "output_type": "stream",
     "text": [
      "(10000, 10)\n",
      "[608 2 0 41 1 83807.86 1 0 1 112542.58]\n"
     ]
    }
   ],
   "source": [
    "print(x.shape)\n",
    "print(x[1])"
   ]
  },
  {
   "cell_type": "code",
   "execution_count": 84,
   "metadata": {},
   "outputs": [
    {
     "data": {
      "text/plain": [
       "(10000, 10)"
      ]
     },
     "execution_count": 84,
     "metadata": {},
     "output_type": "execute_result"
    }
   ],
   "source": [
    "x.shape"
   ]
  },
  {
   "cell_type": "code",
   "execution_count": 85,
   "metadata": {
    "collapsed": true
   },
   "outputs": [],
   "source": [
    "from sklearn.model_selection import train_test_split#we import this to divide our data into training data and testing data"
   ]
  },
  {
   "cell_type": "code",
   "execution_count": 86,
   "metadata": {
    "collapsed": true
   },
   "outputs": [],
   "source": [
    "x_train,x_test,y_train,y_test=train_test_split(x,y,test_size=0.2)#80% of total data is only used for training and rest 20% is for testing."
   ]
  },
  {
   "cell_type": "code",
   "execution_count": 87,
   "metadata": {
    "collapsed": true
   },
   "outputs": [],
   "source": [
    "from sklearn.preprocessing import StandardScaler"
   ]
  },
  {
   "cell_type": "code",
   "execution_count": 88,
   "metadata": {},
   "outputs": [
    {
     "name": "stderr",
     "output_type": "stream",
     "text": [
      "E:\\New folder\\lib\\site-packages\\sklearn\\utils\\validation.py:475: DataConversionWarning: Data with input dtype object was converted to float64 by StandardScaler.\n",
      "  warnings.warn(msg, DataConversionWarning)\n"
     ]
    }
   ],
   "source": [
    "sc=StandardScaler()\n",
    "x_train=sc.fit_transform(x_train)\n",
    "x_test=sc.transform(x_test)"
   ]
  },
  {
   "cell_type": "markdown",
   "metadata": {},
   "source": [
    "# ANN Starts"
   ]
  },
  {
   "cell_type": "code",
   "execution_count": 89,
   "metadata": {
    "collapsed": true
   },
   "outputs": [],
   "source": [
    "from keras.models import Sequential#use for intialising\n",
    "from keras.layers import Dense#use for makinf hidden layers"
   ]
  },
  {
   "cell_type": "code",
   "execution_count": 90,
   "metadata": {},
   "outputs": [
    {
     "name": "stderr",
     "output_type": "stream",
     "text": [
      "E:\\New folder\\lib\\site-packages\\ipykernel_launcher.py:3: UserWarning: Update your `Dense` call to the Keras 2 API: `Dense(activation=\"relu\", input_dim=10, units=6, kernel_initializer=\"uniform\")`\n",
      "  This is separate from the ipykernel package so we can avoid doing imports until\n"
     ]
    }
   ],
   "source": [
    "#intialising ANN\n",
    "classifier=Sequential()#we intialise our model\n",
    "classifier.add(Dense(output_dim=6,init='uniform',activation='relu',input_dim=10))#first hidden layer take 10 input gives 6 output and works on rectifier function."
   ]
  },
  {
   "cell_type": "code",
   "execution_count": 91,
   "metadata": {},
   "outputs": [
    {
     "name": "stderr",
     "output_type": "stream",
     "text": [
      "E:\\New folder\\lib\\site-packages\\ipykernel_launcher.py:1: UserWarning: Update your `Dense` call to the Keras 2 API: `Dense(activation=\"relu\", units=6, kernel_initializer=\"uniform\")`\n",
      "  \"\"\"Entry point for launching an IPython kernel.\n"
     ]
    }
   ],
   "source": [
    "classifier.add(Dense(output_dim=6,init='uniform',activation='relu'))#2nd input layer"
   ]
  },
  {
   "cell_type": "code",
   "execution_count": 92,
   "metadata": {},
   "outputs": [
    {
     "name": "stderr",
     "output_type": "stream",
     "text": [
      "E:\\New folder\\lib\\site-packages\\ipykernel_launcher.py:1: UserWarning: Update your `Dense` call to the Keras 2 API: `Dense(activation=\"sigmoid\", units=1, kernel_initializer=\"uniform\")`\n",
      "  \"\"\"Entry point for launching an IPython kernel.\n"
     ]
    }
   ],
   "source": [
    "classifier.add(Dense(output_dim=1,init='uniform',activation='sigmoid'))#output layer"
   ]
  },
  {
   "cell_type": "code",
   "execution_count": 93,
   "metadata": {
    "collapsed": true
   },
   "outputs": [],
   "source": [
    "classifier.compile(optimizer='adam',loss='binary_crossentropy',metrics=['accuracy'])#during compilation use optimiser adam(stochastic gradient descent)"
   ]
  },
  {
   "cell_type": "code",
   "execution_count": 94,
   "metadata": {},
   "outputs": [
    {
     "name": "stderr",
     "output_type": "stream",
     "text": [
      "E:\\New folder\\lib\\site-packages\\keras\\models.py:944: UserWarning: The `nb_epoch` argument in `fit` has been renamed `epochs`.\n",
      "  warnings.warn('The `nb_epoch` argument in `fit` '\n"
     ]
    },
    {
     "name": "stdout",
     "output_type": "stream",
     "text": [
      "Epoch 1/200\n",
      "8000/8000 [==============================] - 3s 390us/step - loss: 0.4945 - acc: 0.7934\n",
      "Epoch 2/200\n",
      "8000/8000 [==============================] - 1s 125us/step - loss: 0.4340 - acc: 0.7936\n",
      "Epoch 3/200\n",
      "8000/8000 [==============================] - 1s 123us/step - loss: 0.4281 - acc: 0.7936\n",
      "Epoch 4/200\n",
      "8000/8000 [==============================] - 1s 130us/step - loss: 0.4237 - acc: 0.8134\n",
      "Epoch 5/200\n",
      "8000/8000 [==============================] - 1s 132us/step - loss: 0.4209 - acc: 0.8264\n",
      "Epoch 6/200\n",
      "8000/8000 [==============================] - 1s 127us/step - loss: 0.4189 - acc: 0.8299\n",
      "Epoch 7/200\n",
      "8000/8000 [==============================] - 1s 146us/step - loss: 0.4173 - acc: 0.8302\n",
      "Epoch 8/200\n",
      "8000/8000 [==============================] - 1s 129us/step - loss: 0.4160 - acc: 0.8332\n",
      "Epoch 9/200\n",
      "8000/8000 [==============================] - 1s 124us/step - loss: 0.4146 - acc: 0.8332\n",
      "Epoch 10/200\n",
      "8000/8000 [==============================] - 1s 128us/step - loss: 0.4139 - acc: 0.8341\n",
      "Epoch 11/200\n",
      "8000/8000 [==============================] - 1s 128us/step - loss: 0.4128 - acc: 0.8329\n",
      "Epoch 12/200\n",
      "8000/8000 [==============================] - 1s 139us/step - loss: 0.4123 - acc: 0.8335\n",
      "Epoch 13/200\n",
      "8000/8000 [==============================] - 1s 123us/step - loss: 0.4110 - acc: 0.8355\n",
      "Epoch 14/200\n",
      "8000/8000 [==============================] - 1s 125us/step - loss: 0.4100 - acc: 0.8352\n",
      "Epoch 15/200\n",
      "8000/8000 [==============================] - 1s 123us/step - loss: 0.4095 - acc: 0.8357\n",
      "Epoch 16/200\n",
      "8000/8000 [==============================] - 1s 124us/step - loss: 0.4083 - acc: 0.8345\n",
      "Epoch 17/200\n",
      "8000/8000 [==============================] - 1s 121us/step - loss: 0.4084 - acc: 0.8351\n",
      "Epoch 18/200\n",
      "8000/8000 [==============================] - 1s 122us/step - loss: 0.4066 - acc: 0.8352\n",
      "Epoch 19/200\n",
      "8000/8000 [==============================] - 1s 129us/step - loss: 0.4052 - acc: 0.8359\n",
      "Epoch 20/200\n",
      "8000/8000 [==============================] - 1s 141us/step - loss: 0.4040 - acc: 0.8371\n",
      "Epoch 21/200\n",
      "8000/8000 [==============================] - 1s 171us/step - loss: 0.4032 - acc: 0.8371\n",
      "Epoch 22/200\n",
      "8000/8000 [==============================] - 1s 137us/step - loss: 0.4015 - acc: 0.8372\n",
      "Epoch 23/200\n",
      "8000/8000 [==============================] - 1s 129us/step - loss: 0.4006 - acc: 0.8359\n",
      "Epoch 24/200\n",
      "8000/8000 [==============================] - 1s 128us/step - loss: 0.3997 - acc: 0.8367\n",
      "Epoch 25/200\n",
      "8000/8000 [==============================] - 1s 160us/step - loss: 0.3994 - acc: 0.8381\n",
      "Epoch 26/200\n",
      "8000/8000 [==============================] - 1s 157us/step - loss: 0.3985 - acc: 0.8385\n",
      "Epoch 27/200\n",
      "8000/8000 [==============================] - 1s 159us/step - loss: 0.3978 - acc: 0.8376\n",
      "Epoch 28/200\n",
      "8000/8000 [==============================] - 1s 132us/step - loss: 0.3975 - acc: 0.8380\n",
      "Epoch 29/200\n",
      "8000/8000 [==============================] - 1s 131us/step - loss: 0.3972 - acc: 0.8387\n",
      "Epoch 30/200\n",
      "8000/8000 [==============================] - 1s 127us/step - loss: 0.3965 - acc: 0.8372\n",
      "Epoch 31/200\n",
      "8000/8000 [==============================] - 1s 129us/step - loss: 0.3962 - acc: 0.8371\n",
      "Epoch 32/200\n",
      "8000/8000 [==============================] - 1s 137us/step - loss: 0.3963 - acc: 0.8380\n",
      "Epoch 33/200\n",
      "8000/8000 [==============================] - 1s 130us/step - loss: 0.3960 - acc: 0.8374\n",
      "Epoch 34/200\n",
      "8000/8000 [==============================] - 1s 130us/step - loss: 0.3955 - acc: 0.8376\n",
      "Epoch 35/200\n",
      "8000/8000 [==============================] - 1s 128us/step - loss: 0.3947 - acc: 0.8376\n",
      "Epoch 36/200\n",
      "8000/8000 [==============================] - 1s 131us/step - loss: 0.3954 - acc: 0.8381\n",
      "Epoch 37/200\n",
      "8000/8000 [==============================] - 1s 152us/step - loss: 0.3950 - acc: 0.8375\n",
      "Epoch 38/200\n",
      "8000/8000 [==============================] - 1s 147us/step - loss: 0.3943 - acc: 0.8390\n",
      "Epoch 39/200\n",
      "8000/8000 [==============================] - 1s 158us/step - loss: 0.3946 - acc: 0.8395\n",
      "Epoch 40/200\n",
      "8000/8000 [==============================] - 1s 182us/step - loss: 0.3948 - acc: 0.8386\n",
      "Epoch 41/200\n",
      "8000/8000 [==============================] - 1s 147us/step - loss: 0.3942 - acc: 0.8379\n",
      "Epoch 42/200\n",
      "8000/8000 [==============================] - 1s 124us/step - loss: 0.3950 - acc: 0.8387\n",
      "Epoch 43/200\n",
      "8000/8000 [==============================] - 1s 134us/step - loss: 0.3944 - acc: 0.8376\n",
      "Epoch 44/200\n",
      "8000/8000 [==============================] - 1s 140us/step - loss: 0.3942 - acc: 0.8372\n",
      "Epoch 45/200\n",
      "8000/8000 [==============================] - 1s 127us/step - loss: 0.3945 - acc: 0.8389\n",
      "Epoch 46/200\n",
      "8000/8000 [==============================] - 1s 143us/step - loss: 0.3943 - acc: 0.8402\n",
      "Epoch 47/200\n",
      "8000/8000 [==============================] - 1s 126us/step - loss: 0.3940 - acc: 0.8386\n",
      "Epoch 48/200\n",
      "8000/8000 [==============================] - 1s 144us/step - loss: 0.3939 - acc: 0.8386\n",
      "Epoch 49/200\n",
      "8000/8000 [==============================] - 1s 139us/step - loss: 0.3941 - acc: 0.8367\n",
      "Epoch 50/200\n",
      "8000/8000 [==============================] - 1s 165us/step - loss: 0.3940 - acc: 0.8380\n",
      "Epoch 51/200\n",
      "8000/8000 [==============================] - 1s 142us/step - loss: 0.3937 - acc: 0.8385\n",
      "Epoch 52/200\n",
      "8000/8000 [==============================] - 1s 131us/step - loss: 0.3939 - acc: 0.8392\n",
      "Epoch 53/200\n",
      "8000/8000 [==============================] - 1s 126us/step - loss: 0.3938 - acc: 0.8392\n",
      "Epoch 54/200\n",
      "8000/8000 [==============================] - 1s 128us/step - loss: 0.3940 - acc: 0.8394\n",
      "Epoch 55/200\n",
      "8000/8000 [==============================] - 1s 129us/step - loss: 0.3944 - acc: 0.8386\n",
      "Epoch 56/200\n",
      "8000/8000 [==============================] - 1s 126us/step - loss: 0.3939 - acc: 0.8391\n",
      "Epoch 57/200\n",
      "8000/8000 [==============================] - 1s 172us/step - loss: 0.3940 - acc: 0.8392\n",
      "Epoch 58/200\n",
      "8000/8000 [==============================] - 1s 129us/step - loss: 0.3935 - acc: 0.8381\n",
      "Epoch 59/200\n",
      "8000/8000 [==============================] - 1s 129us/step - loss: 0.3938 - acc: 0.8391\n",
      "Epoch 60/200\n",
      "8000/8000 [==============================] - 1s 139us/step - loss: 0.3935 - acc: 0.8387\n",
      "Epoch 61/200\n",
      "8000/8000 [==============================] - 1s 124us/step - loss: 0.3938 - acc: 0.8384\n",
      "Epoch 62/200\n",
      "8000/8000 [==============================] - 1s 127us/step - loss: 0.3934 - acc: 0.8404\n",
      "Epoch 63/200\n",
      "8000/8000 [==============================] - 1s 126us/step - loss: 0.3934 - acc: 0.8372\n",
      "Epoch 64/200\n",
      "8000/8000 [==============================] - 1s 126us/step - loss: 0.3934 - acc: 0.8376\n",
      "Epoch 65/200\n",
      "8000/8000 [==============================] - 1s 127us/step - loss: 0.3941 - acc: 0.8394\n",
      "Epoch 66/200\n",
      "8000/8000 [==============================] - 1s 125us/step - loss: 0.3935 - acc: 0.8390\n",
      "Epoch 67/200\n",
      "8000/8000 [==============================] - 1s 135us/step - loss: 0.3935 - acc: 0.8389\n",
      "Epoch 68/200\n",
      "8000/8000 [==============================] - 1s 147us/step - loss: 0.3936 - acc: 0.8395\n",
      "Epoch 69/200\n",
      "8000/8000 [==============================] - 1s 146us/step - loss: 0.3937 - acc: 0.8392\n",
      "Epoch 70/200\n",
      "8000/8000 [==============================] - 1s 148us/step - loss: 0.3935 - acc: 0.8380\n",
      "Epoch 71/200\n",
      "8000/8000 [==============================] - 1s 158us/step - loss: 0.3935 - acc: 0.8389\n",
      "Epoch 72/200\n",
      "8000/8000 [==============================] - 1s 151us/step - loss: 0.3928 - acc: 0.8380\n",
      "Epoch 73/200\n",
      "8000/8000 [==============================] - 1s 129us/step - loss: 0.3934 - acc: 0.8399\n",
      "Epoch 74/200\n",
      "8000/8000 [==============================] - 1s 151us/step - loss: 0.3938 - acc: 0.8380\n",
      "Epoch 75/200\n",
      "8000/8000 [==============================] - 1s 129us/step - loss: 0.3935 - acc: 0.8390\n",
      "Epoch 76/200\n",
      "8000/8000 [==============================] - 1s 157us/step - loss: 0.3936 - acc: 0.8390\n",
      "Epoch 77/200\n",
      "8000/8000 [==============================] - 1s 135us/step - loss: 0.3930 - acc: 0.8381\n",
      "Epoch 78/200\n",
      "8000/8000 [==============================] - 1s 137us/step - loss: 0.3936 - acc: 0.8395\n",
      "Epoch 79/200\n",
      "8000/8000 [==============================] - 1s 122us/step - loss: 0.3935 - acc: 0.8392\n",
      "Epoch 80/200\n",
      "8000/8000 [==============================] - 1s 125us/step - loss: 0.3931 - acc: 0.8395\n",
      "Epoch 81/200\n",
      "8000/8000 [==============================] - 1s 126us/step - loss: 0.3930 - acc: 0.8407\n",
      "Epoch 82/200\n"
     ]
    },
    {
     "name": "stdout",
     "output_type": "stream",
     "text": [
      "8000/8000 [==============================] - 1s 119us/step - loss: 0.3933 - acc: 0.8390\n",
      "Epoch 83/200\n",
      "8000/8000 [==============================] - 1s 133us/step - loss: 0.3929 - acc: 0.8402\n",
      "Epoch 84/200\n",
      "8000/8000 [==============================] - 1s 120us/step - loss: 0.3934 - acc: 0.8400\n",
      "Epoch 85/200\n",
      "8000/8000 [==============================] - 1s 123us/step - loss: 0.3926 - acc: 0.8382\n",
      "Epoch 86/200\n",
      "8000/8000 [==============================] - 1s 146us/step - loss: 0.3935 - acc: 0.8402\n",
      "Epoch 87/200\n",
      "8000/8000 [==============================] - 1s 125us/step - loss: 0.3931 - acc: 0.8389\n",
      "Epoch 88/200\n",
      "8000/8000 [==============================] - 1s 125us/step - loss: 0.3935 - acc: 0.8389\n",
      "Epoch 89/200\n",
      "8000/8000 [==============================] - 1s 126us/step - loss: 0.3935 - acc: 0.8404\n",
      "Epoch 90/200\n",
      "8000/8000 [==============================] - 1s 126us/step - loss: 0.3936 - acc: 0.8391\n",
      "Epoch 91/200\n",
      "8000/8000 [==============================] - 1s 128us/step - loss: 0.3929 - acc: 0.8390\n",
      "Epoch 92/200\n",
      "8000/8000 [==============================] - 1s 121us/step - loss: 0.3930 - acc: 0.8382\n",
      "Epoch 93/200\n",
      "8000/8000 [==============================] - 1s 123us/step - loss: 0.3927 - acc: 0.8389\n",
      "Epoch 94/200\n",
      "8000/8000 [==============================] - 1s 119us/step - loss: 0.3927 - acc: 0.8406\n",
      "Epoch 95/200\n",
      "8000/8000 [==============================] - 1s 121us/step - loss: 0.3935 - acc: 0.8394\n",
      "Epoch 96/200\n",
      "8000/8000 [==============================] - 1s 118us/step - loss: 0.3930 - acc: 0.8375\n",
      "Epoch 97/200\n",
      "8000/8000 [==============================] - 1s 142us/step - loss: 0.3931 - acc: 0.8381\n",
      "Epoch 98/200\n",
      "8000/8000 [==============================] - 1s 118us/step - loss: 0.3929 - acc: 0.8384\n",
      "Epoch 99/200\n",
      "8000/8000 [==============================] - 1s 122us/step - loss: 0.3930 - acc: 0.8390\n",
      "Epoch 100/200\n",
      "8000/8000 [==============================] - 1s 118us/step - loss: 0.3930 - acc: 0.8387\n",
      "Epoch 101/200\n",
      "8000/8000 [==============================] - 1s 115us/step - loss: 0.3925 - acc: 0.8394\n",
      "Epoch 102/200\n",
      "8000/8000 [==============================] - 1s 114us/step - loss: 0.3932 - acc: 0.8377\n",
      "Epoch 103/200\n",
      "8000/8000 [==============================] - 1s 114us/step - loss: 0.3926 - acc: 0.8385\n",
      "Epoch 104/200\n",
      "8000/8000 [==============================] - 1s 114us/step - loss: 0.3933 - acc: 0.8410\n",
      "Epoch 105/200\n",
      "8000/8000 [==============================] - 1s 116us/step - loss: 0.3932 - acc: 0.8370\n",
      "Epoch 106/200\n",
      "8000/8000 [==============================] - 1s 116us/step - loss: 0.3928 - acc: 0.8386\n",
      "Epoch 107/200\n",
      "8000/8000 [==============================] - 1s 115us/step - loss: 0.3928 - acc: 0.8387\n",
      "Epoch 108/200\n",
      "8000/8000 [==============================] - 1s 111us/step - loss: 0.3930 - acc: 0.8382\n",
      "Epoch 109/200\n",
      "8000/8000 [==============================] - 1s 125us/step - loss: 0.3930 - acc: 0.8386\n",
      "Epoch 110/200\n",
      "8000/8000 [==============================] - 1s 137us/step - loss: 0.3933 - acc: 0.8390\n",
      "Epoch 111/200\n",
      "8000/8000 [==============================] - 1s 126us/step - loss: 0.3929 - acc: 0.8390\n",
      "Epoch 112/200\n",
      "8000/8000 [==============================] - 1s 126us/step - loss: 0.3929 - acc: 0.8392\n",
      "Epoch 113/200\n",
      "8000/8000 [==============================] - 1s 114us/step - loss: 0.3927 - acc: 0.8379\n",
      "Epoch 114/200\n",
      "8000/8000 [==============================] - 1s 116us/step - loss: 0.3922 - acc: 0.8394\n",
      "Epoch 115/200\n",
      "8000/8000 [==============================] - 1s 115us/step - loss: 0.3927 - acc: 0.8387\n",
      "Epoch 116/200\n",
      "8000/8000 [==============================] - 1s 117us/step - loss: 0.3930 - acc: 0.8392\n",
      "Epoch 117/200\n",
      "8000/8000 [==============================] - 1s 136us/step - loss: 0.3924 - acc: 0.8366\n",
      "Epoch 118/200\n",
      "8000/8000 [==============================] - 1s 124us/step - loss: 0.3929 - acc: 0.8370\n",
      "Epoch 119/200\n",
      "8000/8000 [==============================] - 1s 136us/step - loss: 0.3923 - acc: 0.8386\n",
      "Epoch 120/200\n",
      "8000/8000 [==============================] - 1s 127us/step - loss: 0.3925 - acc: 0.8397\n",
      "Epoch 121/200\n",
      "8000/8000 [==============================] - 1s 123us/step - loss: 0.3924 - acc: 0.8387\n",
      "Epoch 122/200\n",
      "8000/8000 [==============================] - 1s 134us/step - loss: 0.3924 - acc: 0.8397\n",
      "Epoch 123/200\n",
      "8000/8000 [==============================] - 1s 122us/step - loss: 0.3921 - acc: 0.8397\n",
      "Epoch 124/200\n",
      "8000/8000 [==============================] - 1s 139us/step - loss: 0.3924 - acc: 0.8397\n",
      "Epoch 125/200\n",
      "8000/8000 [==============================] - 1s 128us/step - loss: 0.3923 - acc: 0.8405\n",
      "Epoch 126/200\n",
      "8000/8000 [==============================] - 1s 133us/step - loss: 0.3921 - acc: 0.8384\n",
      "Epoch 127/200\n",
      "8000/8000 [==============================] - 1s 127us/step - loss: 0.3915 - acc: 0.8377\n",
      "Epoch 128/200\n",
      "8000/8000 [==============================] - 1s 179us/step - loss: 0.3919 - acc: 0.8409\n",
      "Epoch 129/200\n",
      "8000/8000 [==============================] - 1s 172us/step - loss: 0.3925 - acc: 0.8410\n",
      "Epoch 130/200\n",
      "8000/8000 [==============================] - 1s 143us/step - loss: 0.3921 - acc: 0.8394\n",
      "Epoch 131/200\n",
      "8000/8000 [==============================] - 1s 129us/step - loss: 0.3918 - acc: 0.8399\n",
      "Epoch 132/200\n",
      "8000/8000 [==============================] - 1s 134us/step - loss: 0.3919 - acc: 0.8377\n",
      "Epoch 133/200\n",
      "8000/8000 [==============================] - 1s 132us/step - loss: 0.3921 - acc: 0.8391\n",
      "Epoch 134/200\n",
      "8000/8000 [==============================] - 1s 129us/step - loss: 0.3916 - acc: 0.8387\n",
      "Epoch 135/200\n",
      "8000/8000 [==============================] - 1s 120us/step - loss: 0.3919 - acc: 0.8390\n",
      "Epoch 136/200\n",
      "8000/8000 [==============================] - 1s 123us/step - loss: 0.3915 - acc: 0.8389\n",
      "Epoch 137/200\n",
      "8000/8000 [==============================] - 1s 120us/step - loss: 0.3912 - acc: 0.8399\n",
      "Epoch 138/200\n",
      "8000/8000 [==============================] - 1s 123us/step - loss: 0.3915 - acc: 0.8392\n",
      "Epoch 139/200\n",
      "8000/8000 [==============================] - 1s 120us/step - loss: 0.3914 - acc: 0.8395\n",
      "Epoch 140/200\n",
      "8000/8000 [==============================] - 1s 121us/step - loss: 0.3911 - acc: 0.8392\n",
      "Epoch 141/200\n",
      "8000/8000 [==============================] - 1s 122us/step - loss: 0.3911 - acc: 0.8415\n",
      "Epoch 142/200\n",
      "8000/8000 [==============================] - 1s 127us/step - loss: 0.3912 - acc: 0.8390\n",
      "Epoch 143/200\n",
      "8000/8000 [==============================] - 1s 139us/step - loss: 0.3906 - acc: 0.8400\n",
      "Epoch 144/200\n",
      "8000/8000 [==============================] - 1s 121us/step - loss: 0.3906 - acc: 0.8395\n",
      "Epoch 145/200\n",
      "8000/8000 [==============================] - 1s 124us/step - loss: 0.3903 - acc: 0.8379\n",
      "Epoch 146/200\n",
      "8000/8000 [==============================] - 1s 124us/step - loss: 0.3907 - acc: 0.8382\n",
      "Epoch 147/200\n",
      "8000/8000 [==============================] - 1s 129us/step - loss: 0.3906 - acc: 0.8391\n",
      "Epoch 148/200\n",
      "8000/8000 [==============================] - 1s 124us/step - loss: 0.3905 - acc: 0.8391\n",
      "Epoch 149/200\n",
      "8000/8000 [==============================] - 1s 132us/step - loss: 0.3905 - acc: 0.8402\n",
      "Epoch 150/200\n",
      "8000/8000 [==============================] - 1s 125us/step - loss: 0.3907 - acc: 0.8402\n",
      "Epoch 151/200\n",
      "8000/8000 [==============================] - 1s 124us/step - loss: 0.3902 - acc: 0.8386\n",
      "Epoch 152/200\n",
      "8000/8000 [==============================] - 1s 124us/step - loss: 0.3897 - acc: 0.8387\n",
      "Epoch 153/200\n",
      "8000/8000 [==============================] - 1s 127us/step - loss: 0.3902 - acc: 0.8404\n",
      "Epoch 154/200\n",
      "8000/8000 [==============================] - 1s 132us/step - loss: 0.3893 - acc: 0.8392\n",
      "Epoch 155/200\n",
      "8000/8000 [==============================] - 1s 125us/step - loss: 0.3894 - acc: 0.8390\n",
      "Epoch 156/200\n",
      "8000/8000 [==============================] - 1s 131us/step - loss: 0.3892 - acc: 0.8404\n",
      "Epoch 157/200\n",
      "8000/8000 [==============================] - 1s 144us/step - loss: 0.3897 - acc: 0.8391\n",
      "Epoch 158/200\n",
      "8000/8000 [==============================] - 1s 127us/step - loss: 0.3890 - acc: 0.8394\n",
      "Epoch 159/200\n",
      "8000/8000 [==============================] - 1s 129us/step - loss: 0.3895 - acc: 0.8392\n",
      "Epoch 160/200\n",
      "8000/8000 [==============================] - 1s 128us/step - loss: 0.3893 - acc: 0.8404\n",
      "Epoch 161/200\n",
      "8000/8000 [==============================] - 1s 129us/step - loss: 0.3882 - acc: 0.8379\n",
      "Epoch 162/200\n"
     ]
    },
    {
     "name": "stdout",
     "output_type": "stream",
     "text": [
      "8000/8000 [==============================] - 1s 123us/step - loss: 0.3883 - acc: 0.8410\n",
      "Epoch 163/200\n",
      "8000/8000 [==============================] - 1s 124us/step - loss: 0.3886 - acc: 0.8385\n",
      "Epoch 164/200\n",
      "8000/8000 [==============================] - 1s 121us/step - loss: 0.3881 - acc: 0.8382\n",
      "Epoch 165/200\n",
      "8000/8000 [==============================] - 1s 122us/step - loss: 0.3873 - acc: 0.8405\n",
      "Epoch 166/200\n",
      "8000/8000 [==============================] - 1s 122us/step - loss: 0.3874 - acc: 0.8401\n",
      "Epoch 167/200\n",
      "8000/8000 [==============================] - 1s 123us/step - loss: 0.3872 - acc: 0.8405\n",
      "Epoch 168/200\n",
      "8000/8000 [==============================] - 1s 125us/step - loss: 0.3862 - acc: 0.8417\n",
      "Epoch 169/200\n",
      "8000/8000 [==============================] - 1s 124us/step - loss: 0.3857 - acc: 0.8416\n",
      "Epoch 170/200\n",
      "8000/8000 [==============================] - 1s 123us/step - loss: 0.3859 - acc: 0.8401\n",
      "Epoch 171/200\n",
      "8000/8000 [==============================] - 1s 125us/step - loss: 0.3852 - acc: 0.8400\n",
      "Epoch 172/200\n",
      "8000/8000 [==============================] - 1s 128us/step - loss: 0.3842 - acc: 0.8430\n",
      "Epoch 173/200\n",
      "8000/8000 [==============================] - 1s 129us/step - loss: 0.3836 - acc: 0.8422\n",
      "Epoch 174/200\n",
      "8000/8000 [==============================] - 1s 131us/step - loss: 0.3830 - acc: 0.8402\n",
      "Epoch 175/200\n",
      "8000/8000 [==============================] - 1s 125us/step - loss: 0.3828 - acc: 0.8416\n",
      "Epoch 176/200\n",
      "8000/8000 [==============================] - 1s 128us/step - loss: 0.3817 - acc: 0.8412\n",
      "Epoch 177/200\n",
      "8000/8000 [==============================] - 1s 124us/step - loss: 0.3801 - acc: 0.8427\n",
      "Epoch 178/200\n",
      "8000/8000 [==============================] - 1s 127us/step - loss: 0.3776 - acc: 0.8451\n",
      "Epoch 179/200\n",
      "8000/8000 [==============================] - 1s 122us/step - loss: 0.3745 - acc: 0.8474\n",
      "Epoch 180/200\n",
      "8000/8000 [==============================] - 1s 124us/step - loss: 0.3691 - acc: 0.8485\n",
      "Epoch 181/200\n",
      "8000/8000 [==============================] - 1s 128us/step - loss: 0.3630 - acc: 0.8521\n",
      "Epoch 182/200\n",
      "8000/8000 [==============================] - 1s 125us/step - loss: 0.3584 - acc: 0.8547\n",
      "Epoch 183/200\n",
      "8000/8000 [==============================] - 1s 123us/step - loss: 0.3531 - acc: 0.8547\n",
      "Epoch 184/200\n",
      "8000/8000 [==============================] - 1s 127us/step - loss: 0.3491 - acc: 0.8596\n",
      "Epoch 185/200\n",
      "8000/8000 [==============================] - 1s 127us/step - loss: 0.3457 - acc: 0.8601\n",
      "Epoch 186/200\n",
      "8000/8000 [==============================] - 1s 122us/step - loss: 0.3443 - acc: 0.8599\n",
      "Epoch 187/200\n",
      "8000/8000 [==============================] - 1s 132us/step - loss: 0.3419 - acc: 0.8635\n",
      "Epoch 188/200\n",
      "8000/8000 [==============================] - 1s 129us/step - loss: 0.3411 - acc: 0.8611\n",
      "Epoch 189/200\n",
      "8000/8000 [==============================] - 1s 126us/step - loss: 0.3404 - acc: 0.8642\n",
      "Epoch 190/200\n",
      "8000/8000 [==============================] - 1s 128us/step - loss: 0.3395 - acc: 0.8629\n",
      "Epoch 191/200\n",
      "8000/8000 [==============================] - 1s 126us/step - loss: 0.3391 - acc: 0.8644\n",
      "Epoch 192/200\n",
      "8000/8000 [==============================] - 1s 121us/step - loss: 0.3384 - acc: 0.8637\n",
      "Epoch 193/200\n",
      "8000/8000 [==============================] - 1s 128us/step - loss: 0.3387 - acc: 0.8649\n",
      "Epoch 194/200\n",
      "8000/8000 [==============================] - 1s 125us/step - loss: 0.3375 - acc: 0.8630\n",
      "Epoch 195/200\n",
      "8000/8000 [==============================] - 1s 123us/step - loss: 0.3379 - acc: 0.8636\n",
      "Epoch 196/200\n",
      "8000/8000 [==============================] - 1s 127us/step - loss: 0.3368 - acc: 0.8649\n",
      "Epoch 197/200\n",
      "8000/8000 [==============================] - 1s 127us/step - loss: 0.3366 - acc: 0.8646\n",
      "Epoch 198/200\n",
      "8000/8000 [==============================] - 1s 123us/step - loss: 0.3364 - acc: 0.8655\n",
      "Epoch 199/200\n",
      "8000/8000 [==============================] - 1s 126us/step - loss: 0.3359 - acc: 0.8654\n",
      "Epoch 200/200\n",
      "8000/8000 [==============================] - 1s 128us/step - loss: 0.3362 - acc: 0.8660\n"
     ]
    },
    {
     "data": {
      "text/plain": [
       "<keras.callbacks.History at 0x1a6c7184748>"
      ]
     },
     "execution_count": 94,
     "metadata": {},
     "output_type": "execute_result"
    }
   ],
   "source": [
    "classifier.fit(x_train,y_train,batch_size=10,nb_epoch=200)"
   ]
  },
  {
   "cell_type": "code",
   "execution_count": 95,
   "metadata": {
    "collapsed": true
   },
   "outputs": [],
   "source": [
    "y_pred=classifier.predict(x_test)\n",
    "y_pred=(y_pred>0.5)"
   ]
  },
  {
   "cell_type": "code",
   "execution_count": 96,
   "metadata": {
    "collapsed": true
   },
   "outputs": [],
   "source": [
    "from sklearn.metrics import confusion_matrix\n",
    "cm=confusion_matrix(y_test,y_pred)"
   ]
  },
  {
   "cell_type": "code",
   "execution_count": 97,
   "metadata": {},
   "outputs": [
    {
     "data": {
      "text/plain": [
       "array([[1544,   70],\n",
       "       [ 216,  170]], dtype=int64)"
      ]
     },
     "execution_count": 97,
     "metadata": {},
     "output_type": "execute_result"
    }
   ],
   "source": [
    "cm"
   ]
  },
  {
   "cell_type": "code",
   "execution_count": null,
   "metadata": {
    "collapsed": true
   },
   "outputs": [],
   "source": []
  }
 ],
 "metadata": {
  "kernelspec": {
   "display_name": "Python 3",
   "language": "python",
   "name": "python3"
  },
  "language_info": {
   "codemirror_mode": {
    "name": "ipython",
    "version": 3
   },
   "file_extension": ".py",
   "mimetype": "text/x-python",
   "name": "python",
   "nbconvert_exporter": "python",
   "pygments_lexer": "ipython3",
   "version": "3.6.3"
  }
 },
 "nbformat": 4,
 "nbformat_minor": 2
}
